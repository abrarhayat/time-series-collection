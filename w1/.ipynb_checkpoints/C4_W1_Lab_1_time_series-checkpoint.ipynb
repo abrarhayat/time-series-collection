{
 "cells": [
  {
   "cell_type": "code",
   "execution_count": null,
   "metadata": {
    "id": "zX4Kg8DUTKWO"
   },
   "outputs": [],
   "source": [
    "#@title Licensed under the Apache License, Version 2.0 (the \"License\");\n",
    "# you may not use this file except in compliance with the License.\n",
    "# You may obtain a copy of the License at\n",
    "#\n",
    "# https://www.apache.org/licenses/LICENSE-2.0\n",
    "#\n",
    "# Unless required by applicable law or agreed to in writing, software\n",
    "# distributed under the License is distributed on an \"AS IS\" BASIS,\n",
    "# WITHOUT WARRANTIES OR CONDITIONS OF ANY KIND, either express or implied.\n",
    "# See the License for the specific language governing permissions and\n",
    "# limitations under the License."
   ]
  },
  {
   "cell_type": "markdown",
   "metadata": {
    "id": "w_XJiOdr-MSM"
   },
   "source": [
    "In the screencast for this lesson I go through a few scenarios for time series. This notebook contains the code for that with a few little extras! :)"
   ]
  },
  {
   "cell_type": "markdown",
   "metadata": {
    "id": "vidayERjaO5q"
   },
   "source": [
    "**Note:** This notebook can run using TensorFlow 2.5.0"
   ]
  },
  {
   "cell_type": "code",
   "execution_count": null,
   "metadata": {
    "colab": {
     "base_uri": "https://localhost:8080/"
    },
    "id": "XpzEXzbHoQhj",
    "outputId": "98f70084-8bb4-4d6d-b4ba-7fdf79f0cd51",
    "scrolled": true
   },
   "outputs": [],
   "source": [
    "!pip install tensorflow==2.5.0"
   ]
  },
  {
   "cell_type": "code",
   "execution_count": null,
   "metadata": {
    "id": "gqWabzlJ63nL"
   },
   "outputs": [],
   "source": [
    "import numpy as np\n",
    "import matplotlib.pyplot as plt\n",
    "import tensorflow as tf\n",
    "from tensorflow import keras"
   ]
  },
  {
   "cell_type": "code",
   "execution_count": null,
   "metadata": {
    "id": "sJwA96JU00pW"
   },
   "outputs": [],
   "source": [
    "def plot_series(time, series, format=\"-\", start=0, end=None, label=None):\n",
    "    plt.plot(time[start:end], series[start:end], format, label=label)\n",
    "    plt.xlabel(\"Time\")\n",
    "    plt.ylabel(\"Value\")\n",
    "    if label:\n",
    "        plt.legend(fontsize=14)\n",
    "    plt.grid(True)"
   ]
  },
  {
   "cell_type": "markdown",
   "metadata": {
    "id": "yVo6CcpRaW7u"
   },
   "source": [
    "# Trend and Seasonality"
   ]
  },
  {
   "cell_type": "code",
   "execution_count": null,
   "metadata": {
    "id": "t30Ts2KjiOIY"
   },
   "outputs": [],
   "source": [
    "def trend(time, slope=0):\n",
    "    return slope * time"
   ]
  },
  {
   "cell_type": "markdown",
   "metadata": {
    "id": "iJjc3G1Maefn"
   },
   "source": [
    "Let's create a time series that just trends upward:"
   ]
  },
  {
   "cell_type": "code",
   "execution_count": null,
   "metadata": {
    "colab": {
     "base_uri": "https://localhost:8080/",
     "height": 388
    },
    "id": "BLt-pLiZ0nfB",
    "outputId": "9b8cc955-9814-4d21-f020-8c328392b4bb"
   },
   "outputs": [
    {
     "data": {
      "image/png": "[encoded data removed]",
      "text/plain": [
       "<Figure size 720x432 with 1 Axes>"
      ]
     },
     "metadata": {
      "needs_background": "light"
     },
     "output_type": "display_data"
    }
   ],
   "source": [
    "time = np.arange(4 * 365 + 1)\n",
    "baseline = 10\n",
    "series = trend(time, 0.1)\n",
    "\n",
    "plt.figure(figsize=(10, 6))\n",
    "plot_series(time, series)\n",
    "plt.show()"
   ]
  },
  {
   "cell_type": "markdown",
   "metadata": {
    "id": "WKD4nh9sauBf"
   },
   "source": [
    "Now let's generate a time series with a seasonal pattern:"
   ]
  },
  {
   "cell_type": "code",
   "execution_count": null,
   "metadata": {
    "id": "89gdEnPY1Niy"
   },
   "outputs": [],
   "source": [
    "def seasonal_pattern(season_time):\n",
    "    \"\"\"Just an arbitrary pattern, you can change it if you wish\"\"\"\n",
    "    return np.where(season_time < 0.4,\n",
    "                    np.cos(season_time * 2 * np.pi),\n",
    "                    1 / np.exp(3 * season_time))\n",
    "\n",
    "def seasonality(time, period, amplitude=1, phase=0):\n",
    "    \"\"\"Repeats the same pattern at each period\"\"\"\n",
    "    season_time = ((time + phase) % period) / period\n",
    "    return amplitude * seasonal_pattern(season_time)"
   ]
  },
  {
   "cell_type": "code",
   "execution_count": null,
   "metadata": {
    "id": "7kaNezUk1S9l"
   },
   "outputs": [],
   "source": [
    "baseline = 10\n",
    "amplitude = 40\n",
    "series = seasonality(time, period=365, amplitude=amplitude)\n",
    "\n",
    "plt.figure(figsize=(10, 6))\n",
    "plot_series(time, series)\n",
    "plt.show()"
   ]
  },
  {
   "cell_type": "markdown",
   "metadata": {
    "id": "-Vo433h0bDLD"
   },
   "source": [
    "Now let's create a time series with both trend and seasonality:"
   ]
  },
  {
   "cell_type": "code",
   "execution_count": null,
   "metadata": {
    "id": "AyqFdaIN1oy5"
   },
   "outputs": [],
   "source": [
    "slope = 0.05\n",
    "series = baseline + trend(time, slope) + seasonality(time, period=365, amplitude=amplitude)\n",
    "\n",
    "plt.figure(figsize=(10, 6))\n",
    "plot_series(time, series)\n",
    "plt.show()"
   ]
  },
  {
   "cell_type": "markdown",
   "metadata": {
    "id": "YVdJ2jNN8OHk"
   },
   "source": [
    "# Noise"
   ]
  },
  {
   "cell_type": "markdown",
   "metadata": {
    "id": "V4taP424sces"
   },
   "source": [
    "In practice few real-life time series have such a smooth signal. They usually have some noise, and the signal-to-noise ratio can sometimes be very low. Let's generate some white noise:"
   ]
  },
  {
   "cell_type": "code",
   "execution_count": null,
   "metadata": {
    "id": "3kD3_zjVscBH"
   },
   "outputs": [],
   "source": [
    "def white_noise(time, noise_level=1, seed=None):\n",
    "    rnd = np.random.RandomState(seed)\n",
    "    return rnd.randn(len(time)) * noise_level"
   ]
  },
  {
   "cell_type": "code",
   "execution_count": null,
   "metadata": {
    "id": "aLvBwrKrtDzo"
   },
   "outputs": [],
   "source": [
    "noise_level = 5\n",
    "noise = white_noise(time, noise_level, seed=42)\n",
    "\n",
    "plt.figure(figsize=(10, 6))\n",
    "plot_series(time, noise)\n",
    "plt.show()"
   ]
  },
  {
   "cell_type": "markdown",
   "metadata": {
    "id": "GHa6gicgbL74"
   },
   "source": [
    "Now let's add this white noise to the time series:"
   ]
  },
  {
   "cell_type": "code",
   "execution_count": null,
   "metadata": {
    "id": "2bRDx8K816N9"
   },
   "outputs": [],
   "source": [
    "series += noise\n",
    "\n",
    "plt.figure(figsize=(10, 6))\n",
    "plot_series(time, series)\n",
    "plt.show()"
   ]
  },
  {
   "cell_type": "markdown",
   "metadata": {
    "id": "a1sQpPjhtj0G"
   },
   "source": [
    "All right, this looks realistic enough for now. Let's try to forecast it. We will split it into two periods: the training period and the validation period (in many cases, you would also want to have a test period). The split will be at time step 1000."
   ]
  },
  {
   "cell_type": "code",
   "execution_count": null,
   "metadata": {
    "id": "_w0eKap5uFNP"
   },
   "outputs": [],
   "source": [
    "split_time = 1000\n",
    "time_train = time[:split_time]\n",
    "x_train = series[:split_time]\n",
    "time_valid = time[split_time:]\n",
    "x_valid = series[split_time:]"
   ]
  },
  {
   "cell_type": "code",
   "execution_count": null,
   "metadata": {
    "id": "GICxGswL2aqK"
   },
   "outputs": [],
   "source": [
    "def autocorrelation(time, amplitude, seed=None):\n",
    "    rnd = np.random.RandomState(seed)\n",
    "    φ1 = 0.5\n",
    "    φ2 = -0.1\n",
    "    ar = rnd.randn(len(time) + 50)\n",
    "    ar[:50] = 100\n",
    "    for step in range(50, len(time) + 50):\n",
    "        ar[step] += φ1 * ar[step - 50]\n",
    "        ar[step] += φ2 * ar[step - 33]\n",
    "    return ar[50:] * amplitude"
   ]
  },
  {
   "cell_type": "code",
   "execution_count": null,
   "metadata": {
    "id": "mCaWIWoDGVCL"
   },
   "outputs": [],
   "source": [
    "def autocorrelation(time, amplitude, seed=None):\n",
    "    rnd = np.random.RandomState(seed)\n",
    "    φ = 0.8\n",
    "    ar = rnd.randn(len(time) + 1)\n",
    "    for step in range(1, len(time) + 1):\n",
    "        ar[step] += φ * ar[step - 1]\n",
    "    return ar[1:] * amplitude"
   ]
  },
  {
   "cell_type": "code",
   "execution_count": null,
   "metadata": {
    "id": "MVM204K66bnC"
   },
   "outputs": [],
   "source": [
    "series = autocorrelation(time, 10, seed=42)\n",
    "plot_series(time[:200], series[:200])\n",
    "plt.show()"
   ]
  },
  {
   "cell_type": "code",
   "execution_count": null,
   "metadata": {
    "id": "9MZ2sCmM8XPU"
   },
   "outputs": [],
   "source": [
    "series = autocorrelation(time, 10, seed=42) + trend(time, 2)\n",
    "plot_series(time[:200], series[:200])\n",
    "plt.show()"
   ]
  },
  {
   "cell_type": "code",
   "execution_count": null,
   "metadata": {
    "id": "hqx5et9Bzp5e"
   },
   "outputs": [],
   "source": [
    "series = autocorrelation(time, 10, seed=42) + seasonality(time, period=50, amplitude=150) + trend(time, 2)\n",
    "plot_series(time[:200], series[:200])\n",
    "plt.show()"
   ]
  },
  {
   "cell_type": "code",
   "execution_count": null,
   "metadata": {
    "id": "qb5echI7rHqA"
   },
   "outputs": [],
   "source": [
    "series = autocorrelation(time, 10, seed=42) + seasonality(time, period=50, amplitude=150) + trend(time, 2)\n",
    "series2 = autocorrelation(time, 5, seed=42) + seasonality(time, period=50, amplitude=2) + trend(time, -1) + 550\n",
    "series[200:] = series2[200:]\n",
    "#series += noise(time, 30)\n",
    "plot_series(time[:300], series[:300])\n",
    "plt.show()"
   ]
  },
  {
   "cell_type": "code",
   "execution_count": null,
   "metadata": {
    "id": "iBfpCbu6jsaB"
   },
   "outputs": [],
   "source": [
    "def impulses(time, num_impulses, amplitude=1, seed=None):\n",
    "    rnd = np.random.RandomState(seed)\n",
    "    impulse_indices = rnd.randint(len(time), size=10)\n",
    "    series = np.zeros(len(time))\n",
    "    for index in impulse_indices:\n",
    "        series[index] += rnd.rand() * amplitude\n",
    "    return series    "
   ]
  },
  {
   "cell_type": "code",
   "execution_count": null,
   "metadata": {
    "id": "BJ1kXWNLg_BD"
   },
   "outputs": [],
   "source": [
    "series = impulses(time, 10, seed=42)\n",
    "plot_series(time, series)\n",
    "plt.show()"
   ]
  },
  {
   "cell_type": "code",
   "execution_count": null,
   "metadata": {
    "id": "uvMAqSatkcyX"
   },
   "outputs": [],
   "source": [
    "def autocorrelation(source, φs):\n",
    "    ar = source.copy()\n",
    "    max_lag = len(φs)\n",
    "    for step, value in enumerate(source):\n",
    "        for lag, φ in φs.items():\n",
    "            if step - lag > 0:\n",
    "              ar[step] += φ * ar[step - lag]\n",
    "    return ar"
   ]
  },
  {
   "cell_type": "code",
   "execution_count": null,
   "metadata": {
    "id": "iUv8l8nchJRZ"
   },
   "outputs": [],
   "source": [
    "signal = impulses(time, 10, seed=42)\n",
    "series = autocorrelation(signal, {1: 0.99})\n",
    "plot_series(time, series)\n",
    "plt.plot(time, signal, \"k-\")\n",
    "plt.show()"
   ]
  },
  {
   "cell_type": "code",
   "execution_count": null,
   "metadata": {
    "id": "5_lx-AlWhT5v"
   },
   "outputs": [],
   "source": [
    "signal = impulses(time, 10, seed=42)\n",
    "series = autocorrelation(signal, {1: 0.70, 50: 0.2})\n",
    "plot_series(time, series)\n",
    "plt.plot(time, signal, \"k-\")\n",
    "plt.show()"
   ]
  },
  {
   "cell_type": "code",
   "execution_count": null,
   "metadata": {
    "id": "nWQ9fvFAOGRB"
   },
   "outputs": [],
   "source": [
    "series_diff1 = series[1:] - series[:-1]\n",
    "plot_series(time[1:], series_diff1)"
   ]
  },
  {
   "cell_type": "code",
   "execution_count": null,
   "metadata": {
    "id": "AvUI22RSONQd"
   },
   "outputs": [],
   "source": [
    "from pandas.plotting import autocorrelation_plot\n",
    "\n",
    "autocorrelation_plot(series)"
   ]
  },
  {
   "cell_type": "code",
   "execution_count": null,
   "metadata": {
    "id": "ddRJGI1pic78"
   },
   "outputs": [],
   "source": [
    "from statsmodels.tsa.arima_model import ARIMA\n",
    "\n",
    "model = ARIMA(series, order=(5, 1, 0))\n",
    "model_fit = model.fit(disp=0)\n",
    "print(model_fit.summary())\n"
   ]
  },
  {
   "cell_type": "code",
   "execution_count": null,
   "metadata": {
    "id": "RW5Y_zXJyhXe"
   },
   "outputs": [],
   "source": [
    "# Sunspots.csv\n",
    "!gdown --id 1bLnqPgwoSh6rHz_DKDdDeQyAyl8_nqT5"
   ]
  },
  {
   "cell_type": "code",
   "execution_count": null,
   "metadata": {
    "id": "A0l79ROF1xu1"
   },
   "outputs": [],
   "source": [
    "import pandas as pd\n",
    "\n",
    "df = pd.read_csv('./Sunspots.csv', parse_dates=[\"Date\"], index_col=\"Date\")\n",
    "series = df[\"Monthly Mean Total Sunspot Number\"].asfreq(\"1M\")\n",
    "series.head()"
   ]
  },
  {
   "cell_type": "code",
   "execution_count": null,
   "metadata": {
    "id": "wVoq4cmx3-vk"
   },
   "outputs": [],
   "source": [
    "series.plot(figsize=(12, 5))"
   ]
  },
  {
   "cell_type": "code",
   "execution_count": null,
   "metadata": {
    "id": "stmDLe8jEDQL"
   },
   "outputs": [],
   "source": [
    "series[\"1995-01-01\":].plot()"
   ]
  },
  {
   "cell_type": "code",
   "execution_count": null,
   "metadata": {
    "id": "SXc9PkCXJd_a"
   },
   "outputs": [],
   "source": [
    "series.diff(1).plot()\n",
    "plt.axis([0, 100, -50, 50])"
   ]
  },
  {
   "cell_type": "code",
   "execution_count": null,
   "metadata": {
    "id": "G1T-V7B8180O"
   },
   "outputs": [],
   "source": [
    "from pandas.plotting import autocorrelation_plot\n",
    "\n",
    "autocorrelation_plot(series)"
   ]
  },
  {
   "cell_type": "code",
   "execution_count": null,
   "metadata": {
    "id": "8jdIxEASH_1z"
   },
   "outputs": [],
   "source": [
    "autocorrelation_plot(series.diff(1)[1:])"
   ]
  },
  {
   "cell_type": "code",
   "execution_count": null,
   "metadata": {
    "id": "6eIY8wloG3Go"
   },
   "outputs": [],
   "source": [
    "autocorrelation_plot(series.diff(1)[1:].diff(11 * 12)[11*12+1:])\n",
    "plt.axis([0, 500, -0.1, 0.1])"
   ]
  },
  {
   "cell_type": "code",
   "execution_count": null,
   "metadata": {
    "id": "El2JSNZwG7UP"
   },
   "outputs": [],
   "source": [
    "autocorrelation_plot(series.diff(1)[1:])\n",
    "plt.axis([0, 50, -0.1, 0.1])"
   ]
  },
  {
   "cell_type": "code",
   "execution_count": null,
   "metadata": {
    "id": "gvmZAKeAHACf"
   },
   "outputs": [],
   "source": [
    "116.7 - 104.3"
   ]
  },
  {
   "cell_type": "code",
   "execution_count": null,
   "metadata": {
    "id": "ReEbS1MpC50n"
   },
   "outputs": [],
   "source": [
    "[series.autocorr(lag) for lag in range(1, 50)]"
   ]
  },
  {
   "cell_type": "code",
   "execution_count": null,
   "metadata": {
    "id": "7rdXm2UX3WsH"
   },
   "outputs": [],
   "source": [
    "#Read a comma-separated values (csv) file into DataFrame.\n",
    "pd.read_csv('./Sunspots.csv', sep=',', delimiter=None, header='infer', names=None, \n",
    "            index_col=None, usecols=None, squeeze=False, prefix=None, mangle_dupe_cols=True, \n",
    "            dtype=None, engine=None, converters=None, true_values=None, false_values=None, \n",
    "            skipinitialspace=False, skiprows=None, skipfooter=0, nrows=None, na_values=None, \n",
    "            keep_default_na=True, na_filter=True, verbose=False, skip_blank_lines=True, parse_dates=False, \n",
    "            infer_datetime_format=False, keep_date_col=False, date_parser=None, dayfirst=False, iterator=False, \n",
    "            chunksize=None, compression='infer', thousands=None, decimal=b'.', lineterminator=None, quotechar='\"', \n",
    "            quoting=0, doublequote=True, escapechar=None, comment=None, encoding=None, dialect=None, \n",
    "            error_bad_lines=True, warn_bad_lines=True, delim_whitespace=False, \n",
    "            low_memory=True, memory_map=False, float_precision=None)"
   ]
  },
  {
   "cell_type": "code",
   "execution_count": null,
   "metadata": {
    "id": "sYXNHu_trIH2"
   },
   "outputs": [],
   "source": [
    "from pandas.plotting import autocorrelation_plot\n",
    "\n",
    "series_diff = series\n",
    "for lag in range(50):\n",
    "  series_diff = series_diff[1:] - series_diff[:-1]\n",
    "\n",
    "autocorrelation_plot(series_diff)"
   ]
  },
  {
   "cell_type": "code",
   "execution_count": null,
   "metadata": {
    "id": "s6SVHBpqrO1X"
   },
   "outputs": [],
   "source": [
    "series_diff1 = pd.Series(series[1:] - series[:-1])\n",
    "autocorrs = [series_diff1.autocorr(lag) for lag in range(1, 60)]\n",
    "plt.plot(autocorrs)\n",
    "plt.show()"
   ]
  },
  {
   "cell_type": "code",
   "execution_count": null,
   "metadata": {
    "id": "LjUj2aDPsSbX"
   },
   "outputs": [],
   "source": []
  }
 ],
 "metadata": {
  "accelerator": "GPU",
  "colab": {
   "collapsed_sections": [],
   "name": "C4_W1_Lab_1_time_series.ipynb",
   "provenance": [],
   "toc_visible": true
  },
  "kernelspec": {
   "display_name": "Python 3 (ipykernel)",
   "language": "python",
   "name": "python3"
  },
  "language_info": {
   "codemirror_mode": {
    "name": "ipython",
    "version": 3
   },
   "file_extension": ".py",
   "mimetype": "text/x-python",
   "name": "python",
   "nbconvert_exporter": "python",
   "pygments_lexer": "ipython3",
   "version": "3.8.5"
  }
 },
 "nbformat": 4,
 "nbformat_minor": 1
}
